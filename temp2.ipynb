{
 "cells": [
  {
   "cell_type": "code",
   "execution_count": 2,
   "metadata": {},
   "outputs": [
    {
     "name": "stdout",
     "output_type": "stream",
     "text": [
      "{'prograsp forceps', 'grasping retractor', 'force bipolar', 'tenaculum forceps', 'monopolar curved scissors', 'clip applier ', 'cadiere forceps', 'needle driver', 'curved scissors', 'vessel sealer', 'permanent cautery hook/spatula', 'nan(camera in)', 'tip-up fenestrated grasper', 'bipolar forceps'}\n"
     ]
    }
   ],
   "source": [
    "import os\n",
    "import pandas as pd\n",
    "\n",
    "# CSV 파일이 있는 디렉터리 경로\n",
    "csv_directory = \"Data/labels\"\n",
    "\n",
    "# 해당 디렉터리에 있는 모든 파일 목록\n",
    "csv_list = os.listdir(csv_directory)\n",
    "\n",
    "# USM2의 고유 값을 저장할 집합\n",
    "usm2_unique_values = set()\n",
    "\n",
    "for csv in csv_list:\n",
    "    csv_path = os.path.join(csv_directory, csv)\n",
    "    \n",
    "    # 파일이 CSV 형식인지 확인\n",
    "    if csv.endswith('.csv'):\n",
    "        try:\n",
    "            # CSV 파일을 읽어오기\n",
    "            df = pd.read_csv(csv_path)\n",
    "            \n",
    "            # USM2 열이 존재하는지 확인\n",
    "            if 'USM1' in df.columns:\n",
    "                usm2_unique_value = df['USM1'].dropna().unique()\n",
    "                usm2_unique_values.update(usm2_unique_value)\n",
    "        except Exception as e:\n",
    "            print(f\"Error processing file {csv}: {e}\")\n",
    "\n",
    "# 결과 출력\n",
    "print(usm2_unique_values)"
   ]
  },
  {
   "cell_type": "code",
   "execution_count": null,
   "metadata": {},
   "outputs": [],
   "source": []
  }
 ],
 "metadata": {
  "kernelspec": {
   "display_name": "SurgVU",
   "language": "python",
   "name": "python3"
  },
  "language_info": {
   "codemirror_mode": {
    "name": "ipython",
    "version": 3
   },
   "file_extension": ".py",
   "mimetype": "text/x-python",
   "name": "python",
   "nbconvert_exporter": "python",
   "pygments_lexer": "ipython3",
   "version": "3.12.4"
  }
 },
 "nbformat": 4,
 "nbformat_minor": 2
}
