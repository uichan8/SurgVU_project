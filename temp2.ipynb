{
 "cells": [
  {
   "cell_type": "code",
   "execution_count": 2,
   "metadata": {},
   "outputs": [
    {
     "name": "stdout",
     "output_type": "stream",
     "text": [
      "{'prograsp forceps', 'grasping retractor', 'force bipolar', 'tenaculum forceps', 'monopolar curved scissors', 'clip applier ', 'cadiere forceps', 'needle driver', 'curved scissors', 'vessel sealer', 'permanent cautery hook/spatula', 'nan(camera in)', 'tip-up fenestrated grasper', 'bipolar forceps'}\n"
     ]
    }
   ],
   "source": [
    "import os\n",
    "\n"
   ]
  },
  {
   "cell_type": "code",
   "execution_count": 1,
   "metadata": {},
   "outputs": [
    {
     "name": "stderr",
     "output_type": "stream",
     "text": [
      "100%|██████████| 1414/1414 [01:03<00:00, 22.32it/s]"
     ]
    },
    {
     "name": "stdout",
     "output_type": "stream",
     "text": [
      "Data/clips/case_025_00.mp4\n",
      "Data/clips/case_057_14.mp4\n",
      "Data/clips/case_008_11.mp4\n",
      "Data/clips/case_037_10.mp4\n",
      "Data/clips/case_029_01.mp4\n",
      "Data/clips/case_048_00.mp4\n",
      "Data/clips/case_078_02.mp4\n",
      "Data/clips/case_130_02.mp4\n",
      "Data/clips/case_120_14.mp4\n",
      "Data/clips/case_145_00.mp4\n",
      "Data/clips/case_134_13.mp4\n",
      "Data/clips/case_150_00.mp4\n",
      "Data/clips/case_133_10.mp4\n",
      "Data/clips/case_022_09.mp4\n",
      "Data/clips/case_125_00.mp4\n",
      "Data/clips/case_134_02.mp4\n",
      "Data/clips/case_029_00.mp4\n",
      "Data/clips/case_082_08.mp4\n",
      "Data/clips/case_002_06.mp4\n",
      "Data/clips/case_111_07.mp4\n",
      "Data/clips/case_004_02.mp4\n",
      "Data/clips/case_149_02.mp4\n",
      "Data/clips/case_085_07.mp4\n",
      "Data/clips/case_037_11.mp4\n",
      "Data/clips/case_134_00.mp4\n",
      "Data/clips/case_141_01.mp4\n",
      "Data/clips/case_139_02.mp4\n",
      "Data/clips/case_055_01.mp4\n",
      "Data/clips/case_069_02.mp4\n",
      "Data/clips/case_028_10.mp4\n",
      "Data/clips/case_061_11.mp4\n",
      "Data/clips/case_065_00.mp4\n",
      "Data/clips/case_034_03.mp4\n",
      "Data/clips/case_114_01.mp4\n",
      "Data/clips/case_091_02.mp4\n",
      "Data/clips/case_067_02.mp4\n",
      "Data/clips/case_115_10.mp4\n",
      "Data/clips/case_007_09.mp4\n",
      "Data/clips/case_151_00.mp4\n",
      "Data/clips/case_131_06.mp4\n",
      "Data/clips/case_083_00.mp4\n",
      "Data/clips/case_025_06.mp4\n",
      "Data/clips/case_136_06.mp4\n",
      "Data/clips/case_021_00.mp4\n",
      "Data/clips/case_091_10.mp4\n",
      "Data/clips/case_047_03.mp4\n",
      "Data/clips/case_067_00.mp4\n",
      "Data/clips/case_017_03.mp4\n",
      "Data/clips/case_108_05.mp4\n",
      "Data/clips/case_030_01.mp4\n",
      "Data/clips/case_145_03.mp4\n",
      "Data/clips/case_085_09.mp4\n",
      "Data/clips/case_104_01.mp4\n",
      "Data/clips/case_004_00.mp4\n",
      "Data/clips/case_057_00.mp4\n",
      "Data/clips/case_036_03.mp4\n",
      "Data/clips/case_148_04.mp4\n",
      "Data/clips/case_058_08.mp4\n",
      "Data/clips/case_129_01.mp4\n",
      "Data/clips/case_154_02.mp4\n",
      "Data/clips/case_078_00.mp4\n",
      "Data/clips/case_086_00.mp4\n",
      "Data/clips/case_111_09.mp4\n",
      "Data/clips/case_136_05.mp4\n",
      "Data/clips/case_015_02.mp4\n",
      "Data/clips/case_026_08.mp4\n",
      "Data/clips/case_137_01.mp4\n",
      "Data/clips/case_104_00.mp4\n",
      "Data/clips/case_043_00.mp4\n",
      "Data/clips/case_049_08.mp4\n",
      "Data/clips/case_134_08.mp4\n",
      "Data/clips/case_129_10.mp4\n",
      "Data/clips/case_005_02.mp4\n",
      "Data/clips/case_031_01.mp4\n",
      "Data/clips/case_081_01.mp4\n",
      "Data/clips/case_012_11.mp4\n",
      "Data/clips/case_078_13.mp4\n",
      "Data/clips/case_064_01.mp4\n",
      "Data/clips/case_075_04.mp4\n",
      "Data/clips/case_059_00.mp4\n",
      "Data/clips/case_119_05.mp4\n",
      "Data/clips/case_082_14.mp4\n",
      "Data/clips/case_077_04.mp4\n",
      "Data/clips/case_133_02.mp4\n",
      "Data/clips/case_060_01.mp4\n",
      "Data/clips/case_089_00.mp4\n"
     ]
    },
    {
     "name": "stderr",
     "output_type": "stream",
     "text": [
      "\n"
     ]
    }
   ],
   "source": [
    "import os\n",
    "from moviepy.editor import VideoFileClip\n",
    "from tqdm import tqdm\n",
    "\n",
    "def get_videos_in_range(directory, min_duration=180, max_duration=300):\n",
    "    video_files = []\n",
    "    for filename in tqdm(os.listdir(directory)):\n",
    "        if filename.endswith(\".mp4\"):\n",
    "            filepath = os.path.join(directory, filename)\n",
    "            clip = VideoFileClip(filepath)\n",
    "            duration = clip.duration\n",
    "            if min_duration <= duration <= max_duration:\n",
    "                video_files.append(filepath)\n",
    "    return video_files\n",
    "\n",
    "# 사용 예시\n",
    "directory_path = \"Data/clips\"  # 폴더 경로를 여기에 입력하세요\n",
    "videos = get_videos_in_range(directory_path)\n",
    "for video in videos:\n",
    "    print(video)"
   ]
  },
  {
   "cell_type": "code",
   "execution_count": 5,
   "metadata": {},
   "outputs": [
    {
     "data": {
      "text/plain": [
       "86"
      ]
     },
     "execution_count": 5,
     "metadata": {},
     "output_type": "execute_result"
    }
   ],
   "source": [
    "len(videos)"
   ]
  },
  {
   "cell_type": "code",
   "execution_count": 10,
   "metadata": {},
   "outputs": [],
   "source": [
    "import shutil\n",
    "csv_name = []\n",
    "for video in videos:\n",
    "    label = os.path.join(\"Data/labels\",video[11:-4]+\".csv\")\n",
    "\n",
    "    target_video_dir = os.path.join(\"sampled/clips\")\n",
    "    target_label_dir = os.path.join(\"sampled/labels\")\n",
    "    shutil.copy2(video, target_video_dir)\n",
    "    shutil.copy2(label, target_label_dir)\n",
    "    \n",
    "\n"
   ]
  },
  {
   "cell_type": "code",
   "execution_count": null,
   "metadata": {},
   "outputs": [],
   "source": []
  }
 ],
 "metadata": {
  "kernelspec": {
   "display_name": "SurgVU",
   "language": "python",
   "name": "python3"
  },
  "language_info": {
   "codemirror_mode": {
    "name": "ipython",
    "version": 3
   },
   "file_extension": ".py",
   "mimetype": "text/x-python",
   "name": "python",
   "nbconvert_exporter": "python",
   "pygments_lexer": "ipython3",
   "version": "3.12.4"
  }
 },
 "nbformat": 4,
 "nbformat_minor": 2
}
